{
 "cells": [
  {
   "cell_type": "markdown",
   "metadata": {},
   "source": [
    "# Orbits in cartesian coordinates"
   ]
  },
  {
   "cell_type": "markdown",
   "metadata": {},
   "source": [
    "Here we will solve the motion of orbits of two planets under the influence of gravity using cartesian coordinates. Normally the problem is solved in the CoM frame using polar coordinates, but here we will solve it in cartesian coordinates.\n",
    "\n",
    "$\\begin{align}\n",
    "  m_1 \\mathbf{\\ddot r_1} = \\frac{G m_1 m_2}{((x_1 - x_2)^{2}+(y_1 - y_2)^{2})^{3/2}} (\\mathbf{r_1 - r_2})\n",
    "  \\frac{d\\mathbf{y}}{dt} \n",
    "       = \\left(\\begin{array}{c} \\dot r(t) \\\\ \\ddot r(t) \\\\ \\dot\\phi(t) \\end{array} \\right) \n",
    "       = \\left(\\begin{array}{c} \\dot r(t) \\\\ \n",
    "                                 -\\frac{1}{\\mu}\\frac{dU_{\\rm eff}(r)}{dr} \\\\ \n",
    "                                 \\frac{l}{\\mu r^2} \\end{array} \\right) \n",
    "\\end{align}$"
   ]
  },
  {
   "cell_type": "markdown",
   "metadata": {},
   "source": [
    "We consider energy plots and orbital solutions in polar coordinates for the general potential energy\n",
    "\n",
    "$\\begin{align}\n",
    "   U(r) = k r^n\n",
    "\\end{align}$\n",
    "\n",
    "for different ODE solution algorithms.  The `solve_ivp` function can itself be specified to use different solution methods (with the `method` keyword).  Here we will set it by default to use 'RK23', which is a variant on the Runge-Kutta second-order algorithm.  Second-order in this context means that the accuracy of a calculation will improve by a factor of $10^2 = 100$ if $\\Delta t$ is reduced by a factor of ten. \n",
    "\n",
    "We will compare it with the crudest algorithm, Euler's method, which is first order, and a second-order algorithm called Leapfrog, which is designed to be precisely <em>time-reversal invariant</em>.  This property guarantees conservation of energy, which is not true of the other algorithms we will consider.\n",
    "\n",
    "To solve the differential equations for orbits, we have defined the $\\mathbf{y}$ \n",
    "and $d\\mathbf{y}/dt$ vectors as\n",
    "\n",
    "$\\begin{align}\n",
    "  \\mathbf{y} = \\left(\\begin{array}{c} r(t) \\\\ \\dot r(t) \\\\ \\phi(t)  \\end{array} \\right) \n",
    "  \\qquad\n",
    "  \\frac{d\\mathbf{y}}{dt} \n",
    "       = \\left(\\begin{array}{c} \\dot r(t) \\\\ \\ddot r(t) \\\\ \\dot\\phi(t) \\end{array} \\right) \n",
    "       = \\left(\\begin{array}{c} \\dot r(t) \\\\ \n",
    "                                 -\\frac{1}{\\mu}\\frac{dU_{\\rm eff}(r)}{dr} \\\\ \n",
    "                                 \\frac{l}{\\mu r^2} \\end{array} \\right) \n",
    "\\end{align}$\n",
    "\n",
    "where we have substituted the differential equations for $\\ddot r$ and $\\dot\\phi$.\n",
    "\n",
    "Then Euler's method can be written as a simple prescription to obtain $\\mathbf{y}_{i+1}$ \n",
    "from $\\mathbf{y}_i$, where the subscripts label the elements of the `t_pts` array: \n",
    "$\\mathbf{y}_{i+1} = \\mathbf{y}_i + \\left(d\\mathbf{y}/dt\\right)_i \\Delta t$, or, by components:\n",
    "\n",
    "$\\begin{align}\n",
    "   r_{i+1} &= r_i + \\frac{d\\mathbf{y}_i[0]}{dt}  \\Delta t  \\\\\n",
    "   \\dot r_{i+1} &= \\dot r_{i} + \\frac{d\\mathbf{y}_i[1]}{dt}  \\Delta t \\\\\n",
    "   \\phi_{i+1} &= \\phi_i + \\frac{d\\mathbf{y}_i[2]}{dt} \\Delta t\n",
    "\\end{align}$\n",
    "\n",
    "**Look at the** `solve_ode_Euler` **method below and verify the algorithm is correctly implemented.** \n",
    "\n",
    "The leapfrog method does better by evaluating $\\dot r$ at a halfway time step before and after the $r$ evaluation, \n",
    "which is both more accurate and incorporates time reversal: \n",
    "\n",
    "$\\begin{align}\n",
    "   \\dot r_{i+1/2} &= \\dot r_{i} + \\frac{d\\mathbf{y}_i[1]}{dt}  \\Delta t/2 \\\\\n",
    "   r_{i+1} &= r_i +  \\dot r_{i+1/2}  \\Delta t  \\\\\n",
    "   \\dot r_{i+1} &= \\dot r_{i+1/2} + \\frac{d\\mathbf{y}_{i+1}[1]}{dt}  \\Delta t/2 \\\\\n",
    "   \\phi_{i+1} &= \\phi_i + \\frac{d\\mathbf{y}_i[2]}{dt} \\Delta t\n",
    "\\end{align}$\n",
    "\n",
    "**Look at the** `solve_ode_Leapfrog` **method below and verify the algorithm is correctly implemented.** \n",
    "\n",
    "A third method is the second-order Runge-Kutta algorithm, which we invoke from `solve_ivp` as `RK23`. \n",
    "It does not use a fixed time-step as in our \"homemade\" implementations, so there is not a direct \n",
    "comparison, but we can still check if it conserves energy.\n",
    "\n",
    "**Run the notebook.  You are to turn in and comment on the \"Change in energy with time\" plot at the end.  \n",
    "Where do you see energy conserved or not conserved?  Show that Euler is first order and leapfrog is second \n",
    "order by changing $\\Delta t$; describe what you did and what you found.**\n",
    "\n",
    "**Try another potential to see if you get the same general conclusions.**"
   ]
  },
  {
   "cell_type": "code",
   "execution_count": 1,
   "metadata": {},
   "outputs": [],
   "source": [
    "import numpy as np\n",
    "import matplotlib.pyplot as plt\n",
    "from scipy.integrate import solve_ivp"
   ]
  },
  {
   "cell_type": "code",
   "execution_count": 2,
   "metadata": {},
   "outputs": [],
   "source": [
    "# Change the common font size\n",
    "font_size = 14\n",
    "plt.rcParams.update({'font.size': font_size})"
   ]
  },
  {
   "cell_type": "code",
   "execution_count": 3,
   "metadata": {},
   "outputs": [],
   "source": [
    "class Oscillator():\n",
    "    \"\"\"\n",
    "    Oscillator class is a general class for solving the differential equation for \n",
    "    the motion of a given oscillator\n",
    "     \n",
    "    Parameters\n",
    "    ----------\n",
    "    omega : The frequency of the osillator\n",
    "\n",
    "    Methods\n",
    "    -------\n",
    "    solve_ode\n",
    "        uses solve_ivp to solve the differential equation dy_dt passed to it.\n",
    "    \"\"\"\n",
    "    def __init__(self, G=1., m1=1., m2=1.):\n",
    "        self.G = G\n",
    "        self.m1 = m1\n",
    "        self.m2 = m2\n",
    "        \n",
    "    def dy_dt(self, t, z):\n",
    "        \"\"\"\n",
    "        This function returns the right-hand side of the diffeq: \n",
    "        [dphi/dt d^2phi/dt^2]\n",
    "        \n",
    "        Parameters\n",
    "        ----------\n",
    "        z : float\n",
    "            A 2-component vector with z[0] = x1(t) and z[1] = dx1(t)/dt\n",
    "                                      z[2] = y1(t) and z[3] = dy1(t)/dt\n",
    "                                      z[4] = x2(t) and z[5] = dx2(t)/dt\n",
    "                                      z[6] = y2(t) and z[7] = dy2(t)/dt\n",
    "\n",
    "        t : float\n",
    "            time \n",
    "            \n",
    "        Returns\n",
    "        -------\n",
    "        \n",
    "        \"\"\"\n",
    "        \n",
    "        r = np.sqrt( (z[0] - z[4])**2 + (z[2] - z[6])**2 )\n",
    "        return [ \\\n",
    "                z[1], self.m2 * self.G * (z[4] - z[0]) / r**3, \\\n",
    "                z[3], self.m2 * self.G * (z[6] - z[2]) / r**3, \\\n",
    "                z[5], self.m1 * self.G * (z[0] - z[4]) / r**3, \\\n",
    "                z[7], self.m1 * self.G * (z[2] - z[6]) / r**3, \\\n",
    "               ]\n",
    "    \n",
    "    def solve_ode(self, t_pts, z_0,\n",
    "                  method='RK23',\n",
    "                  abserr=1.0e-8, relerr=1.0e-8):\n",
    "        \"\"\"\n",
    "        Solve the ODE given initial conditions.\n",
    "        Use solve_ivp with the option of specifying the method.\n",
    "        Specify smaller abserr and relerr to get more precision.\n",
    "        \"\"\"\n",
    "        \n",
    "        solution = solve_ivp(self.dy_dt, (t_pts[0], t_pts[-1]), \n",
    "                             z_0, t_eval=t_pts, method=method, \n",
    "                             atol=abserr, rtol=relerr)\n",
    "        \n",
    "        x1, x1_dot, y1, y1_dot, x2, x2_dot, y2, y2_dot = solution.y\n",
    "        \n",
    "        return x1, x1_dot, y1, y1_dot, x2, x2_dot, y2, y2_dot"
   ]
  },
  {
   "cell_type": "code",
   "execution_count": null,
   "metadata": {},
   "outputs": [],
   "source": []
  },
  {
   "cell_type": "code",
   "execution_count": 4,
   "metadata": {},
   "outputs": [],
   "source": [
    "def plot_y_vs_x(x, y, axis_labels=None, label=None, title=None, \n",
    "                color=None, linestyle=None, semilogy=False, loglog=False,\n",
    "                ax=None):\n",
    "    \"\"\"\n",
    "    Generic plotting function: return a figure axis with a plot of y vs. x,\n",
    "    with line color and style, title, axis labels, and line label\n",
    "    \"\"\"\n",
    "    if ax is None:        # if the axis object doesn't exist, make one\n",
    "        ax = plt.gca()\n",
    "\n",
    "    if (semilogy):\n",
    "        line, = ax.semilogy(x, y, label=label, \n",
    "                            color=color, linestyle=linestyle)\n",
    "    elif (loglog):\n",
    "        line, = ax.loglog(x, y, label=label, \n",
    "                          color=color, linestyle=linestyle)\n",
    "    else:\n",
    "        line, = ax.plot(x, y, label=label, \n",
    "                    color=color, linestyle=linestyle)\n",
    "\n",
    "    if label is not None:    # if a label if passed, show the legend\n",
    "        ax.legend()\n",
    "    if title is not None:    # set a title if one if passed\n",
    "        ax.set_title(title)\n",
    "    if axis_labels is not None:  # set x-axis and y-axis labels if passed  \n",
    "        ax.set_xlabel(axis_labels[0])\n",
    "        ax.set_ylabel(axis_labels[1])\n",
    "\n",
    "    return ax, line"
   ]
  },
  {
   "cell_type": "code",
   "execution_count": null,
   "metadata": {
    "code_folding": []
   },
   "outputs": [],
   "source": []
  },
  {
   "cell_type": "code",
   "execution_count": 5,
   "metadata": {},
   "outputs": [],
   "source": [
    "def start_stop_indices(t_pts, plot_start, plot_stop):\n",
    "    start_index = (np.fabs(t_pts-plot_start)).argmin()  # index in t_pts array \n",
    "    stop_index = (np.fabs(t_pts-plot_stop)).argmin()  # index in t_pts array \n",
    "    return start_index, stop_index"
   ]
  },
  {
   "cell_type": "markdown",
   "metadata": {},
   "source": [
    "# Pick a potential"
   ]
  },
  {
   "cell_type": "code",
   "execution_count": 6,
   "metadata": {},
   "outputs": [],
   "source": [
    "G=1. \n",
    "m1=1.\n",
    "m2=1.\n",
    "\n",
    "# Common plotting time (generate the full time then use slices)\n",
    "t_start = 0.\n",
    "t_end = 50.\n",
    "delta_t = 0.01\n",
    "\n",
    "t_pts = np.arange(t_start, t_end+delta_t, delta_t)  \n",
    "\n",
    "p1 = Oscillator(G=G, m1=m1, m2=m2)"
   ]
  },
  {
   "cell_type": "code",
   "execution_count": 12,
   "metadata": {},
   "outputs": [],
   "source": [
    "x1_0 = 1.\n",
    "x2_0 = (-m1/m2)*x1_0\n",
    "x1_dot_0 = 0.\n",
    "x2_dot_0 = (-m1/m2)*x1_dot_0\n",
    "y1_0 = 0.\n",
    "y2_0 = (-m1/m2)*y1_0\n",
    "y1_dot_0 = 0.1\n",
    "y2_dot_0 = (-m1/m2)*y1_dot_0\n",
    "\n",
    "z_0 = [x1_0, x1_dot_0, y1_0, y1_dot_0, x2_0, x2_dot_0, y2_0, y2_dot_0]\n",
    "\n",
    "x1, x1_dot, y1, y1_dot, x2, x2_dot, y2, y2_dot = p1.solve_ode(t_pts, z_0)"
   ]
  },
  {
   "cell_type": "code",
   "execution_count": 13,
   "metadata": {},
   "outputs": [
    {
     "name": "stdout",
     "output_type": "stream",
     "text": [
      "[1.         1.         1.         ... 0.90905466 0.90903236 0.90901006]\n",
      "[0.00000000e+00 1.00000000e-05 2.00000000e-05 ... 8.14067810e-02\n",
      " 8.14157845e-02 8.14247877e-02]\n"
     ]
    }
   ],
   "source": [
    "print(x1)\n",
    "print(y1)"
   ]
  },
  {
   "cell_type": "code",
   "execution_count": 14,
   "metadata": {},
   "outputs": [
    {
     "data": {
      "text/plain": [
       "(<AxesSubplot:>, <matplotlib.lines.Line2D at 0x7fb29899b970>)"
      ]
     },
     "execution_count": 14,
     "metadata": {},
     "output_type": "execute_result"
    },
    {
     "data": {
      "image/png": "[encoded data removed]",
      "text/plain": [
       "<Figure size 864x360 with 1 Axes>"
      ]
     },
     "metadata": {
      "needs_background": "light"
     },
     "output_type": "display_data"
    }
   ],
   "source": [
    "fig = plt.figure(figsize=(12,5))\n",
    "ax_a = fig.add_subplot(1,3,1)\n",
    "\n",
    "start, stop = start_stop_indices(t_pts, t_start, t_end)    \n",
    "plot_y_vs_x(x1[start : len(x1)], y1[start : len(x1)],  \n",
    "            color='blue',\n",
    "            label=None,  \n",
    "            ax=ax_a) \n",
    "plot_y_vs_x(x2[start : len(x1)], y2[start : len(x1)],  \n",
    "            color='blue',\n",
    "            label=None,  \n",
    "            ax=ax_a) "
   ]
  },
  {
   "cell_type": "code",
   "execution_count": null,
   "metadata": {},
   "outputs": [],
   "source": [
    "\n"
   ]
  },
  {
   "cell_type": "markdown",
   "metadata": {},
   "source": [
    "## Plot orbit and check energy conservation"
   ]
  },
  {
   "cell_type": "code",
   "execution_count": 10,
   "metadata": {},
   "outputs": [
    {
     "ename": "NameError",
     "evalue": "name 'o1' is not defined",
     "output_type": "error",
     "traceback": [
      "\u001b[0;31m---------------------------------------------------------------------------\u001b[0m",
      "\u001b[0;31mNameError\u001b[0m                                 Traceback (most recent call last)",
      "\u001b[0;32m/var/folders/7c/ctd744mx4bjchcjkw9s71m1r0000gn/T/ipykernel_80513/2676126635.py\u001b[0m in \u001b[0;36m<module>\u001b[0;34m\u001b[0m\n\u001b[1;32m     10\u001b[0m \u001b[0mr_dot_0\u001b[0m \u001b[0;34m=\u001b[0m \u001b[0;36m0.\u001b[0m\u001b[0;34m\u001b[0m\u001b[0;34m\u001b[0m\u001b[0m\n\u001b[1;32m     11\u001b[0m \u001b[0mphi_0\u001b[0m \u001b[0;34m=\u001b[0m \u001b[0;36m0.0\u001b[0m\u001b[0;34m\u001b[0m\u001b[0;34m\u001b[0m\u001b[0m\n\u001b[0;32m---> 12\u001b[0;31m \u001b[0mr_pts\u001b[0m\u001b[0;34m,\u001b[0m \u001b[0mr_dot_pts\u001b[0m\u001b[0;34m,\u001b[0m \u001b[0mphi_pts\u001b[0m \u001b[0;34m=\u001b[0m \u001b[0mo1\u001b[0m\u001b[0;34m.\u001b[0m\u001b[0msolve_ode\u001b[0m\u001b[0;34m(\u001b[0m\u001b[0mt_pts\u001b[0m\u001b[0;34m,\u001b[0m \u001b[0mr_0\u001b[0m\u001b[0;34m,\u001b[0m \u001b[0mr_dot_0\u001b[0m\u001b[0;34m,\u001b[0m \u001b[0mphi_0\u001b[0m\u001b[0;34m)\u001b[0m\u001b[0;34m\u001b[0m\u001b[0;34m\u001b[0m\u001b[0m\n\u001b[0m\u001b[1;32m     13\u001b[0m \u001b[0mr_pts_Euler\u001b[0m\u001b[0;34m,\u001b[0m \u001b[0mr_dot_pts_Euler\u001b[0m\u001b[0;34m,\u001b[0m \u001b[0mphi_pts_Euler\u001b[0m\u001b[0;31m \u001b[0m\u001b[0;31m\\\u001b[0m\u001b[0;34m\u001b[0m\u001b[0;34m\u001b[0m\u001b[0m\n\u001b[1;32m     14\u001b[0m                               \u001b[0;34m=\u001b[0m \u001b[0mo1\u001b[0m\u001b[0;34m.\u001b[0m\u001b[0msolve_ode_Euler\u001b[0m\u001b[0;34m(\u001b[0m\u001b[0mt_pts\u001b[0m\u001b[0;34m,\u001b[0m \u001b[0mr_0\u001b[0m\u001b[0;34m,\u001b[0m \u001b[0mr_dot_0\u001b[0m\u001b[0;34m,\u001b[0m \u001b[0mphi_0\u001b[0m\u001b[0;34m)\u001b[0m\u001b[0;34m\u001b[0m\u001b[0;34m\u001b[0m\u001b[0m\n",
      "\u001b[0;31mNameError\u001b[0m: name 'o1' is not defined"
     ]
    }
   ],
   "source": [
    "# Plotting time \n",
    "t_start = 0.\n",
    "t_end = 10.\n",
    "delta_t = 0.0001\n",
    "\n",
    "t_pts = np.arange(t_start, t_end+delta_t, delta_t)  \n",
    "\n",
    "# Initial conditions\n",
    "r_0 = 1.  #  1.\n",
    "r_dot_0 = 0.\n",
    "phi_0 = 0.0\n",
    "r_pts, r_dot_pts, phi_pts = o1.solve_ode(t_pts, r_0, r_dot_0, phi_0)\n",
    "r_pts_Euler, r_dot_pts_Euler, phi_pts_Euler \\\n",
    "                              = o1.solve_ode_Euler(t_pts, r_0, r_dot_0, phi_0)\n",
    "r_pts_LF, r_dot_pts_LF, phi_pts_LF \\\n",
    "                           = o1.solve_ode_Leapfrog(t_pts, r_0, r_dot_0, phi_0)\n",
    "\n",
    "c = o1.ang_mom**2 / (np.abs(o1.k) * o1.mu)\n",
    "epsilon = c / r_0 - 1.\n",
    "energy_0 = o1.mu/2. * r_dot_0**2 + o1.Ueff(r_0)\n",
    "print(f'energy = {energy_0:.2f}')\n",
    "print(f'eccentricity = {epsilon:.2f}')"
   ]
  },
  {
   "cell_type": "code",
   "execution_count": null,
   "metadata": {},
   "outputs": [],
   "source": [
    "fig_4 = plt.figure(figsize=(8,8))\n",
    "\n",
    "overall_title = 'Orbit:  ' + \\\n",
    "                rf' $n = {o1.n},$' + \\\n",
    "                rf' $k = {o1.k:.1f},$' + \\\n",
    "                rf' $l = {o1.ang_mom:.1f},$' + \\\n",
    "                rf' $r_0 = {r_0:.1f},$' + \\\n",
    "                rf' $\\dot r_0 = {r_dot_0:.1f},$' + \\\n",
    "                rf' $\\phi_0 = {phi_0:.1f}$' + \\\n",
    "                '\\n'     # \\n means a new line (adds some space here)\n",
    "fig_4.suptitle(overall_title, va='baseline')\n",
    "\n",
    "ax_4a = fig_4.add_subplot(2,2,1)\n",
    "ax_4a.plot(t_pts, r_pts, color='black', label='RK23')\n",
    "ax_4a.plot(t_pts, r_pts_Euler, color='blue', label='Euler')\n",
    "ax_4a.plot(t_pts, r_pts_LF, color='red', label='Leapfrog')\n",
    "ax_4a.set_xlabel(r'$t$')\n",
    "ax_4a.set_ylabel(r'$r$')\n",
    "ax_4a.set_title('Time dependence of radius')\n",
    "ax_4a.legend()\n",
    "\n",
    "ax_4b = fig_4.add_subplot(2,2,2)\n",
    "ax_4b.plot(t_pts, phi_pts/(2.*np.pi), color='black', label='RK23')\n",
    "ax_4b.plot(t_pts, phi_pts_Euler/(2.*np.pi), color='blue', label='Euler')\n",
    "ax_4b.plot(t_pts, phi_pts_LF/(2.*np.pi), color='red', label='Leapfrog')\n",
    "ax_4b.set_xlabel(r'$t$')\n",
    "ax_4b.set_ylabel(r'$\\phi/2\\pi$')\n",
    "ax_4b.set_title(r'Time dependence of $\\phi$')\n",
    "ax_4b.legend()\n",
    "\n",
    "ax_4c = fig_4.add_subplot(2,2,3)\n",
    "ax_4c.plot(r_pts*np.cos(phi_pts), r_pts*np.sin(phi_pts), \n",
    "           color='black', label='RK23')\n",
    "ax_4c.plot(r_pts_Euler*np.cos(phi_pts_Euler), \n",
    "           r_pts_Euler*np.sin(phi_pts_Euler), \n",
    "           color='blue', label='Euler')\n",
    "ax_4c.plot(r_pts_LF*np.cos(phi_pts_LF), \n",
    "           r_pts_LF*np.sin(phi_pts_LF), \n",
    "           color='red', label='Leapfrog')\n",
    "ax_4c.set_xlabel(r'$x$')\n",
    "ax_4c.set_ylabel(r'$y$')\n",
    "ax_4c.set_aspect('equal')\n",
    "ax_4c.set_title('Cartesian plot')\n",
    "ax_4c.legend()\n",
    "\n",
    "ax_4d = fig_4.add_subplot(2,2,4, polar=True)\n",
    "ax_4d.plot(phi_pts, r_pts, color='black', label='RK23')\n",
    "ax_4d.plot(phi_pts_Euler, r_pts_Euler, color='blue', label='Euler')\n",
    "ax_4d.plot(phi_pts_LF, r_pts_LF, color='red', label='Leapfrog')\n",
    "ax_4d.set_title('Polar plot', pad=20.)\n",
    "ax_4d.legend()\n",
    "\n",
    "\n",
    "fig_4.tight_layout()\n",
    "fig_4.savefig('Leapfrog_orbit_1.png', dpi=200, bbox_inches='tight')\n",
    "\n"
   ]
  },
  {
   "cell_type": "code",
   "execution_count": null,
   "metadata": {},
   "outputs": [],
   "source": [
    "E_tot_pts = o1.energy(t_pts, r_pts, r_dot_pts)\n",
    "E_tot_0 = E_tot_pts[0]\n",
    "E_tot_rel_pts = np.abs((E_tot_pts - E_tot_0)/E_tot_0)\n",
    "\n",
    "E_tot_pts_Euler = o1.energy(t_pts, r_pts_Euler, r_dot_pts_Euler)\n",
    "E_tot_0_Euler = E_tot_pts_Euler[0]\n",
    "E_tot_rel_pts_Euler = np.abs((E_tot_pts_Euler - E_tot_0_Euler)/E_tot_0_Euler)\n",
    "\n",
    "E_tot_pts_LF = o1.energy(t_pts, r_pts_LF, r_dot_pts_LF)\n",
    "E_tot_0_LF = E_tot_pts_LF[0]\n",
    "E_tot_rel_pts_LF = np.abs((E_tot_pts_LF - E_tot_0_LF)/E_tot_0_LF)\n"
   ]
  },
  {
   "cell_type": "code",
   "execution_count": null,
   "metadata": {},
   "outputs": [],
   "source": [
    "fig_5 = plt.figure(figsize=(6,6))\n",
    "\n",
    "overall_title = 'Orbit:  ' + \\\n",
    "                rf' $n = {o1.n},$' + \\\n",
    "                rf' $k = {o1.k:.1f},$' + \\\n",
    "                rf' $l = {o1.ang_mom:.1f},$' + \\\n",
    "                rf' $r_0 = {r_0:.1f},$' + \\\n",
    "                rf' $\\dot r_0 = {r_dot_0:.1f},$' + \\\n",
    "                rf' $\\phi_0 = {phi_0:.1f}$' + \\\n",
    "                '\\n'     # \\n means a new line (adds some space here)\n",
    "fig_5.suptitle(overall_title, va='baseline')\n",
    "\n",
    "ax_5a = fig_5.add_subplot(1,1,1)\n",
    "#ax_5a.semilogy(t_pts, np.abs(E_tot_pts), color='black', label=r'$E(t)$')\n",
    "ax_5a.semilogy(t_pts, E_tot_rel_pts, \n",
    "               color='green', label=r'$\\Delta E(t)$ RK23')\n",
    "ax_5a.semilogy(t_pts, E_tot_rel_pts_Euler, \n",
    "               color='blue', label=r'$\\Delta E(t)$ Euler')\n",
    "ax_5a.semilogy(t_pts, E_tot_rel_pts_LF, \n",
    "               color='red', label=r'$\\Delta E(t)$ Leapfrog')\n",
    "ax_5a.set_ylim(1.e-10, 1.e-2)    # (1.e-12, 5)\n",
    "ax_5a.set_xlabel(r'$t$')\n",
    "ax_5a.set_ylabel(r'Energy')\n",
    "ax_5a.set_title('Change in energy with time')\n",
    "ax_5a.legend(bbox_to_anchor=(0.5, 0.5))\n",
    "\n",
    "fig_5.tight_layout()\n",
    "fig_5.savefig('Leapfrog_energy_test2_t_0.0001.png', dpi=200, bbox_inches='tight')\n"
   ]
  },
  {
   "cell_type": "code",
   "execution_count": null,
   "metadata": {},
   "outputs": [],
   "source": []
  },
  {
   "cell_type": "code",
   "execution_count": null,
   "metadata": {},
   "outputs": [],
   "source": []
  }
 ],
 "metadata": {
  "kernelspec": {
   "display_name": "Python 3 (ipykernel)",
   "language": "python",
   "name": "python3"
  },
  "language_info": {
   "codemirror_mode": {
    "name": "ipython",
    "version": 3
   },
   "file_extension": ".py",
   "mimetype": "text/x-python",
   "name": "python",
   "nbconvert_exporter": "python",
   "pygments_lexer": "ipython3",
   "version": "3.9.7"
  }
 },
 "nbformat": 4,
 "nbformat_minor": 2
}
